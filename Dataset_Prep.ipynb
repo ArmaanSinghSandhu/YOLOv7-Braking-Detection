{
  "nbformat": 4,
  "nbformat_minor": 0,
  "metadata": {
    "colab": {
      "name": "Dataset Prep.ipynb",
      "provenance": [],
      "collapsed_sections": [],
      "machine_shape": "hm",
      "toc_visible": true,
      "include_colab_link": true
    },
    "kernelspec": {
      "name": "python3",
      "display_name": "Python 3"
    },
    "language_info": {
      "name": "python"
    },
    "gpuClass": "standard"
  },
  "cells": [
    {
      "cell_type": "markdown",
      "metadata": {
        "id": "view-in-github",
        "colab_type": "text"
      },
      "source": [
        "<a href=\"https://colab.research.google.com/github/ArmaanSinghSandhu/YOLOv7-Braking-Detection/blob/main/Dataset_Prep.ipynb\" target=\"_parent\"><img src=\"https://colab.research.google.com/assets/colab-badge.svg\" alt=\"Open In Colab\"/></a>"
      ]
    },
    {
      "cell_type": "markdown",
      "source": [
        "# **Dataset Preprocessing and Preperation**\n",
        "\n",
        "This file is a part of my project to train YOLOv7 on a custom dataset to detect vehicle braking light status for preemptive braking in Autonomous Vehicles/ADAS.\n",
        "\n",
        "This file only contains the code used for and details the steps undertaken for automated structuring, preprocessing, augmentation and splitting of the dataset for this project. The main file detailing the training and testing is the [YOLOv7_Braking_Detection.ipynb](https://colab.research.google.com/drive/1uxMoyABEvXf6MOd2j0zMawT4u_xrbEKz?usp=sharing) file. \n",
        "\n",
        "The code listed below in this file was used to carry out the following steps:\n",
        "\n",
        "1. Create directory structure to temporarily store the source images, the merged images and the label files and then to store the final split dataset ready for training.\n",
        "\n",
        "2. Merge the foreground and background images in random combinations while ensuring class equality and also generating bounding box labels in the YOLO format.\n",
        "\n",
        "3. Split the generated images and labels randomly into training, validation and testing sets while ensuring class equaity in each set. The split dataset are then copied into their corresponding folders.\n",
        "\n",
        "4. Generate a custom.yaml file containing dataset paths, number of object classes and object class names. Then save the file to the yolov7's 'data' folder.\n",
        "\n",
        "The details of each step and their execution is given below the code listing.\n",
        "\n"
      ],
      "metadata": {
        "id": "Tynqv0OkL_YI"
      }
    },
    {
      "cell_type": "code",
      "source": [
        "import cv2\n",
        "from PIL import Image\n",
        "import numpy as np\n",
        "import os\n",
        "import random\n",
        "import shutil\n",
        "from glob import glob\n",
        "from tqdm import tqdm\n",
        " \n",
        "# This is my directory structure and the following code is designed according to it. You might need to change the code according to your setup.\n",
        "\n",
        "# yolov7                        (Root of the YOLOv7 repository. This is where all the code will be executed from.)\n",
        "# +-----data_source             (Folder containing all the background and foreground source images)\n",
        "#       +----------Braking      (Folder containing the cropped images of all the cars with brake lights on)\n",
        "#       +----------Normal       (Folder containing the cropped images of all the cars with brake lights off)\n",
        "#       +----------Backgrounds  (Folder containing all the background image files)\n",
        "#       +----------MergedImages (Folder containing the images of merged foreground with background)\n",
        "#       +----------Labels       (Labels for the merged images)\n",
        "# +-----dataset                 (Folder containing the training, validation & test data along with the labels)\n",
        "#       +------train\n",
        "#              +----images\n",
        "#              +----labels\n",
        "#       +------valid\n",
        "#              +----images\n",
        "#              +----labels\n",
        "#       +------test\n",
        "#              +----images\n",
        "#              +----labels\n",
        "\n",
        "# You can replace the following paths as per your setup and requirements\n",
        "cur_dir = os.curdir                                                         # The YOLOv7 repository root directory\n",
        "\n",
        "data_src_path = os.path.join(cur_dir, 'data_source')                        # Path to the folder which will countain the source foreground and background images\n",
        "dataset_path = os.path.join(cur_dir, 'dataset')                             # Path to the folder which will contain the final merged images and their labels\n",
        "dest_img_dir = os.path.join(data_src_path, 'MergedImages')                  # Path to the folder where the final merged images will be stored\n",
        "label_dir = os.path.join(data_src_path, \"Labels\")                           # Path to the folder where the label files will be stored\n",
        "dataset_folders = ['train', 'valid', 'test']                                # List of folders to be created inside the 'dataset' folder \n",
        "\n",
        "obj_classes = ['Normal', 'Braking']                                         # List of object classes in the dataset\n",
        "\n",
        "# A function to create the directory structure as listed above\n",
        "def create_dirs():\n",
        "  os.mkdir(data_src_path)                                                         # Create 'data_source' folder\n",
        "  os.mkdir(dataset_path)                                                          # Create 'dataset' folder\n",
        "  data_src_folders = obj_classes + ['Backgrounds', 'MergedImages', 'Labels' ]     # List of folders to be created inside the 'data_source' folder \n",
        "  for folder_name in data_src_folders:                                            # Create the folders from the list inside the 'data_source' folder\n",
        "    os.mkdir(os.path.join(data_src_path, folder_name))                            \n",
        "  for folder_name in dataset_folders:                                             # Create folders from the list inside the 'dataset' folder and inside each folder..\n",
        "    folder_path = os.path.join(dataset_path, folder_name)                         \n",
        "    os.mkdir(folder_path)\n",
        "    os.mkdir(os.path.join(folder_path, 'images'))                                 # create the folders named 'images'\n",
        "    os.mkdir(os.path.join(folder_path, \"labels\"))                                 # and 'labels'\n",
        "  print('Directory structure created for dataset')\n",
        "\n",
        "\n",
        "\n",
        "\n",
        "\n",
        "\n",
        "\n",
        " # A function to square the background image received as a numpy array \n",
        " # by extracting the square center of the image, cropping the extra width\n",
        " # equally from both sides. Assumes width larger than height.\n",
        "def square_img(img):\n",
        "\n",
        "  h, w, c = img.shape                                                 # Get the image dimensions\n",
        "  diff = w - h                                                        # Calculate the extra width\n",
        "  \n",
        "  if diff >= 0:                                                       # If the image has greater width than height\n",
        "    x1 = int(diff/2)                                                  # ROI begins horizontally leaving half of the extra width on the left\n",
        "    y1 = 0                                                            # Begins vertically from the top\n",
        "    x2 = x1 + h                                                       # Make ROI width equal to the image height\n",
        "    y2 = h                                                            # and height also equal to image height \n",
        "    crop = img[y1:y2, x1:x2]                                          # Extract the square center of the image\n",
        "  \n",
        "  else:                                                               # If the image has greater height than width\n",
        "    diff = -diff                                                      # Changing diff back to positive\n",
        "    y1 = int(diff/2)                                                  # ROI begins vertically leaving half of extra height on the top\n",
        "    x1 = 0                                                            # Begins horizontally from the left\n",
        "    y2 = y1 + w                                                       # Make ROI height equal to image width\n",
        "    x2 = w                                                            # The width is also equal to the image width\n",
        "    crop = img[y1:y2, x1,x2]                                          # Extract the square center of the image\n",
        "\n",
        "  return crop                                                         # Return the extracted image\n",
        "\n",
        "\n",
        "\n",
        "# A function to convert an image in OpenCV image format (numpy array) to Pillow image format\n",
        "def convert2PIL(img):\n",
        "\n",
        "  img = cv2.cvtColor(img, cv2.COLOR_BGR2RGB)                          # Convert the OpenCV image color order from BGR to RGB \n",
        "  im_pil = Image.fromarray(img)                                       # Convert the numpy array to pillow image\n",
        "\n",
        "  return im_pil                                                       # Return the converted image\n",
        "\n",
        "\n",
        "\n",
        "# A function to convert an image in Pillow image format to a numpy arrat\n",
        "def convert2cv(img):\n",
        "\n",
        "  img = np.array(img)                                                 # Convert image to numpy array\n",
        "  cv_img = cv2.cvtColor(img, cv2.COLOR_RGB2BGR)                       # Convert the color order from RGB to BGR\n",
        "\n",
        "  return cv_img                                                       # Return the converted image\n",
        "\n",
        "\n",
        "\n",
        "# A function which takes a background image and a foreground image as input\n",
        "# and returns the ideal position of the foreground image in the background image \n",
        "# and the text for the YOLO label file with bounding box coordinates and dimensions.\n",
        "# All the margins, multiplication factors and steps will need to be tweaked and ajusted according to the dataset images to get optimal results.\n",
        "def get_img_pos(src, dest):\n",
        "\n",
        "  src_h, src_w, c = src.shape                                         # Get the foreground (source) image dimensions\n",
        "  dest_h, dest_w, c = dest.shape                                      # Get the background (destination) image dimensions\n",
        "  bottom_margin = 20                                                  # Set a margin for the foreground image y axis up from the bottom of the background image\n",
        "\n",
        "  max_src_y = (dest_h - src_h) - bottom_margin                        # The y coordinate of the foreground image should be high enough so that the image bottom \n",
        "                                                                      # touches the bottom margin\n",
        "\n",
        "  adjustment_factor = 1.5                                             # This value will need to be tweaked to adjust the foreground image placement height \n",
        "                                                                      # according to it's dimensions for the depth perception\n",
        "  \n",
        "  y_offset = round((100 - ((src_h/dest_h) * 100)) * adjustment_factor)  # Calculate a y axis offset so that the smaller images are placed higher while the \n",
        "                                                                      # Larger ones are placed lower to achieve a depth perception as in the real world\n",
        "\n",
        "  src_y = max_src_y - y_offset                                        # Make sure the foreground image stays higher than the bottom margin\n",
        "  y_rand_factor = 5                                                   # Set a small factor by which to randomly vary the vertical placement of foreground image\n",
        "  y_rand_steps = 1                                                    # Randomness incrementation step\n",
        "  src_y = random.randrange(src_y - y_rand_factor, src_y + y_rand_factor, y_rand_steps)   # Randomly vary the y coordinate of the foreground image by a small factor\n",
        "\n",
        "  side_margin = 50                                                    # Set a margin for the foreground image x axis from both sides of the background image\n",
        "  min_src_x = side_margin                                             # Set the left bound for foreground image x axis leaving the side margin\n",
        "  diff_w = dest_w - src_w                                             # Get the width difference between both the images\n",
        "  max_src_x = diff_w - side_margin                                    # Set the right bound so that the foreground image's right side does not cross the side margin\n",
        "  \n",
        "  if max_src_x <= min_src_x:                                          # If the source image width is greater than the area between the margins\n",
        "    max_src_x= min_src_x + 10\n",
        "  \n",
        "  x_rand_steps =  1                                                   # Randomness incrementation step\n",
        "  src_x = random.randrange(min_src_x, max_src_x, x_rand_steps)        # Randomly vary the x coordinate of the foreground image\n",
        "\n",
        "  # Following steps calculate the bounding box coordinates and dimensions for the YOLO label file\n",
        "  # which are the coordinates and dimensions of the foreground image relative to the backgound image.\n",
        "  # YOLO label records the bounding box center coordinates divided by the background image's width and height.\n",
        "  # Bounding box height and width are also divided by background image's width and height for the label file.\n",
        "  src_mid_x = src_x + round(src_w/2)                                  # Calculate the center x coordinate of the source image relative to the background image\n",
        "  src_mid_y = src_y + round(src_h/2)                                  # Calculate the center y coordinate of the source image relative to the background image\n",
        "  label_x = round(src_mid_x/dest_w, 7)                                # Convert the center x coordinate to YOLO label format by dividing it by background image width\n",
        "  label_y = round(src_mid_y/dest_h, 7)                                # Convert the center y coordinate to YOLO label format by dividing it by background image height\n",
        "  label_w = round(src_w/dest_w, 7)                                    # Convert the bounding box width to YOLO label format by dividing it by background image width\n",
        "  label_h = round(src_h/dest_h, 7)                                    # Convert the bounding box height to YOLO label format by dividing it by background image height\n",
        "\n",
        "  # Create the string for YOLO label file by combining the bounding box coordinates and dimensions calculated above\n",
        "  label_txt = str(label_x) + \" \" + str(label_y) + \" \" + str(label_w)+ \" \" + str(label_h)\n",
        "\n",
        "  return src_x, src_y, label_txt                                      # Return the coordinates of the foreground image along with the text for the label file\n",
        "\n",
        "\n",
        "# A function that overlays a foreground image on a background image receiving both the images as numpy array input\n",
        "def insert_img(src, dest):\n",
        "\n",
        "  dest_cpy = dest.copy()                                              # Create a copy of the background image if you want to preserve the original\n",
        "  src_x, src_y, label_txt = get_img_pos(src, dest)                    # Get the coordinates for placing the foreground image in the background image\n",
        "                                                                      # Along with the YOLO label text\n",
        "  src_pil = convert2PIL(src)                                          # Convert foreground image to pillow image\n",
        "  dest_pil = convert2PIL(dest_cpy)                                    # Convert background image to pillow image\n",
        "  Image.Image.paste(dest_pil, src_pil, (src_x, src_y))                # Overlay the foreground image on the background\n",
        "  merged = convert2cv(dest_pil)                                       # Convert the merged image back to opencv format\n",
        "\n",
        "  return merged, label_txt                                            # Return the merged image along with YOLO label text\n",
        "\n",
        "# A function that randomly combines the foreground images with the background images to generate a dataset of a given number of images and labels\n",
        "def create_dataset():\n",
        "\n",
        "  imgs_per_cls = 2000                                                 # Number of merged ouput images you want to generate per class\n",
        "  \n",
        "  bg_dir = os.path.join(data_src_path, \"Backgrounds\")                 # Path to the folder containing background images\n",
        "  if not os.path.exists(bg_dir):                                      # Checking if the folder exists.\n",
        "    raise Exception(\"Backgrounds folder not found. Please check your directory structure.\")\n",
        "  bg_imgs_lst = os.listdir(bg_dir)                                    # List of images in the 'Backgrounds' folder\n",
        "  num_bg_imgs = len(bg_imgs_lst)                                      # Number of images in the 'Backgrounds' folder\n",
        "  if num_bg_imgs == 0:\n",
        "    raise Exception(\"No images found in Backgrounds folder. Please check your folder\")\n",
        "\n",
        "  cls_id = 0                                                          # Current object class in the list of classes\n",
        "\n",
        "  for obj_class in obj_classes:                                       # Iterate through the list of classes\n",
        "    fg_dir = os.path.join(data_src_path, obj_class)                   # Get the path to the folder containing source/foreground images for the current object class\n",
        "    if not os.path.exists(fg_dir):                                    # Check if the folder is accessible\n",
        "      raise Exception(\"Folder for \" + str(obj_class) + \" not found. Please check your directory structure.\")\n",
        "    fg_imgs_lst = os.listdir(fg_dir)                                  # List of images in the foreground image folder of the current object class\n",
        "    num_fg_imgs = len(os.listdir(fg_dir))                             # Number of images in the foreground image folder of the current object class\n",
        "    if num_fg_imgs == 0:                                              # Check if the folder has images\n",
        "      raise Exception(\"No images found in \" + str(obj_class) + \" folder. Please check your folder\")\n",
        "\n",
        "    for n in tqdm(range(0, imgs_per_cls)):                            # Loop through the number of output files you want to generate per class\n",
        "      r_fg = random.randrange(0, num_fg_imgs - 1, 1)                  # Randomly generate a numer to select a foreground image\n",
        "      r_bg = random.randrange(0, num_bg_imgs - 1, 1)                  # Randomly generate a numer to select a background image\n",
        "      \n",
        "      fg_img_file = os.path.join(fg_dir, fg_imgs_lst[r_fg])           # Get the path to the random foreground image file\n",
        "      bg_img_file = os.path.join(bg_dir, bg_imgs_lst[r_bg])           # Get the path to the random background image file\n",
        "      \n",
        "      fg_img = cv2.imread(fg_img_file)                                # Read the foreground image from file\n",
        "      bg_img = cv2.imread(bg_img_file)                                # Read the background image from file\n",
        "      \n",
        "      if fg_img.size == 0:                                            # Checking if the file can be read. If not, raise exception\n",
        "        raise Exception(\"Foreground Image file can not be accessed. Check file named: \" + str(fg_imgs_lst[r_fg]))\n",
        "      if bg_img.size == 0:                                            # Checking if the file can be read. If not, raise exception\n",
        "        raise Exception(\"Background Image file can not be accessed. Check file named: \" + str(bg_imgs_lst[r_bg]))\n",
        "      \n",
        "      bg_img = square_img(bg_img)                                     # Square the background image\n",
        "      \n",
        "      out_img, lbl_txt = insert_img(fg_img, bg_img)                   # Get the merged output image and the text for the label file\n",
        "      out_file = os.path.join(dest_img_dir, obj_class + \"-\" + str(n) + \".jpg\")  # Create the path and filename for the merged ouput image file\n",
        "      cv2.imwrite(out_file, out_img)                                  # Write the output image file\n",
        "      \n",
        "      lbl_txt = str(cls_id) + \" \" + lbl_txt                           # Add object class id to the beginning of the label string\n",
        "      lbl_file = os.path.join(label_dir, obj_class + \"-\" + str(n) + \".txt\") # Create the path and filename for the label file\n",
        "      with open(lbl_file, \"w\") as f:                                  # Write the complete label string to the label file  \n",
        "        f.write(lbl_txt)\n",
        "\n",
        "  cls_id = cls_id + 1                                                 # Increment the curremt object class counter\n",
        "\n",
        "# A function that splits the generated dataset from create_dataset() into the training, validation and testing sets.\n",
        "# The data is split according to the split ratio defined in the split_ratio array. The files are randomly chosen while ensuring class equality\n",
        "def split_dataset():\n",
        "  split_ratio = [0.80, 0.10, 0.10]                                    # Set the ratio in which to split the images and labels into the training, validation and test sets  \n",
        "  if sum(split_ratio) == 1:                                           # Continue if the sum of all the ratios is 100%\n",
        "    for obj_class in obj_classes:                                     # Iterate through the object classes\n",
        "      imgs_filter = obj_class + '*.*'                                 # Create a filter to select images and labels with name begining with the name of the current object class\n",
        "      imgs_path = os.path.join(dest_img_dir, imgs_filter)             # Add the path to the merged images folder to the filter \n",
        "      file_lst = glob(imgs_path)                                      # Get the list of image files belonging to the current object_class\n",
        "      num_files = len(file_lst)                                       # Get the number of files in the list\n",
        "      if num_files == 0:                                              # Check if any images found in directory\n",
        "        raise Exception(\"Unable to split dataset. No images found in the \" + str(dest_img_dir) + \" directory\")\n",
        "      \n",
        "      random.shuffle(file_lst)                                        # Shuffle the list\n",
        "      \n",
        "      i = 0                                                           # Counter to loop through the ratios\n",
        "      n = 0                                                           # Counter to the number of files copied per class\n",
        "      \n",
        "      max_files = split_ratio[i] * num_files                          # Calculate the max number of files that can be copied according to the current ratio\n",
        "      \n",
        "      for img_file in tqdm(file_lst):                                 # Iterate through the file list\n",
        "        if n == max_files:                                            # Check if the number of files copied is equal to the max allowed under current ratio\n",
        "          i = i + 1                                                   # Increment the counter to the next ratio\n",
        "          max_files = max_files + (split_ratio[i] * num_files)        # Increase the max number of files allowed by those allowed under the current ratio\n",
        "        \n",
        "        fname = os.path.basename(img_file)                            # Extract the image file name from the full file path\n",
        "        \n",
        "        lbl_fname = fname.split('.')[0] + '.txt'                      # Extract the file name without the extension and append '.txt' extension to it\n",
        "        lbl_file = os.path.join(label_dir, lbl_fname)                 # Join the path to the folder containing the labels to the text file name\n",
        "        \n",
        "        dest_split_dir = os.path.join(dataset_path, dataset_folders[i]) # Use the i counter to get the name of the current destination dataset folder (train, valid or test) and its path\n",
        "        dest_split_imgdir = os.path.join(dest_split_dir, 'images')    # Get the path to the 'images' folder inside the destination folder\n",
        "        dest_split_lbldir = os.path.join(dest_split_dir, 'labels')    # Get the path to the 'labels' folder inside the destination folder\n",
        "        \n",
        "        shutil.copy(img_file, dest_split_imgdir)                      # Copy the current image file to the destination 'images' folder\n",
        "        shutil.copy(lbl_file, dest_split_lbldir)                      # Copy the current label file to the destination 'labels' folder\n",
        "        \n",
        "        n = n + 1                                                     # Increment the files copied counter\n",
        "  \n",
        "  else:                                                               # Raise an exception if the file ratios do not add up to 1.00 or 100%\n",
        "    raise Exception(\"Invalid file distribution ratios. Please check your split ratios.\")\n",
        "\n",
        "        \n",
        "#Create the yaml file in the 'data' folder containing dataset paths along with object class details\n",
        "def create_yaml():\n",
        "  yaml_name = 'custom.yaml'\n",
        "  file_data = ''\n",
        "\n",
        "  for folder in dataset_folders:\n",
        "    tag = folder\n",
        "    if folder == 'valid':\n",
        "      tag = 'val'\n",
        "    file_data = file_data + tag + \": \" + os.path.join(dataset_path, folder) + '\\n'\n",
        "\n",
        "  file_data = file_data + '\\n'\n",
        "  file_data = file_data  + 'nc: ' + str(len(obj_classes)) + '\\n\\n' \n",
        "  file_data = file_data + 'names: ' + str(obj_classes)\n",
        "\n",
        "  yaml_path = os.path.join(os.curdir, 'data')\n",
        "  yaml_file = os.path.join(yaml_path, yaml_name)\n",
        "\n",
        "  with open(yaml_file, 'w') as f:\n",
        "    f.write(file_data)\n",
        "\n",
        "  print('File generated successfully')\n",
        "\n"
      ],
      "metadata": {
        "id": "_yxviOXbQxJG"
      },
      "execution_count": null,
      "outputs": []
    },
    {
      "cell_type": "markdown",
      "source": [
        "#1. Create the following directory structure inside the yolov7 folder\n",
        "\n",
        "![dirs.jpg](data:image/jpeg;base64,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)\n",
        "\n",
        "The \"create_dirs()\" command executed below creates the above directory structure inside the yolov7 folder. The 'data_source' folder will contain the images of the vehicles separated into folders according to each class along with a folder for the background images. The merged images and their generated labels will be stored in their respective folders under the 'data_source' folder. The split_dataset() command will copy the merged images and labels as per the predefined split ratios randomly (while maintaining class equality) into the 'train', 'valid' and 'test' folders under the 'dataset' folder. Path variables in the code can be modified to incorporate a different directory structure."
      ],
      "metadata": {
        "id": "gWGiA365100z"
      }
    },
    {
      "cell_type": "code",
      "source": [
        "create_dirs()"
      ],
      "metadata": {
        "colab": {
          "base_uri": "https://localhost:8080/"
        },
        "id": "GgxIE-7HqAZH",
        "outputId": "51208e4c-b5d1-4e80-942b-e9c2acb162b7"
      },
      "execution_count": null,
      "outputs": [
        {
          "output_type": "stream",
          "name": "stdout",
          "text": [
            "Directory structure created for dataset\n"
          ]
        }
      ]
    },
    {
      "cell_type": "markdown",
      "source": [
        "# 2. Manual downloading, sorting, selection and uploading images to their respective folders in the data_source folder\n",
        "\n",
        "After downloading the images, they were manually sifted through. The vehicle images were filtered on the basis of vehicle diversity, sizes, angles, lighting, resolution and duplicates. It was ensured that there were equal number of images for each detection class. While the backgrounds were filtered on the basis of lighting, diversity, shots of long & open roads/highways, minimal to no leading traffic. The vehicle images were then sorted into two main categories: \n",
        "\n",
        "1. All images with braking lights on (Braking, Braking & Turning Right, Braking & Turning Left) were combined under the 'Braking' category. \n",
        "\n",
        "2. All images with braking lights off (All lights off, Turning Left, Turning Right) were combined under the 'Normal' category.\n",
        "\n",
        "The selected images were then uploaded to their repective folders as follows:\n",
        "\n",
        "Images of braking vehicles -> data_source/Braking\n",
        "\n",
        "Images of non braking vehicles -> data_source/Normal\n",
        "\n",
        "Background images -> data_source/Backgrounds"
      ],
      "metadata": {
        "id": "nAWWPA_KwXZA"
      }
    },
    {
      "cell_type": "markdown",
      "source": [
        "#3. Merge the vehicle images with the backgrounds\n",
        "\n",
        "The \"create_dataset()\" command executed below merges vehicle images with the background images and generates bounding box labels for the vehicles in the YOLO format.\n",
        "Keeping the number of images from each class equal, the vehicle images and background images are randomly selected and merged. Before merging, the background images are squared for YOLO training input optimization. The foreground image is then positioned vertically on the background according to the foreground image size to achieve a depth effect as in the real world. While the horizontal position is randomly selected. Levels of margins, adjustment factors and randomization can be tweaked for optimal results. A '.txt' bounding box label file in the YOLO format, bearing the same name as the image file is generated from the position of the foreground image in the background image. The merged image is saved in the 'data_source/MergedImages' folder while the labels are saved in the 'data_Source/Labels' folder."
      ],
      "metadata": {
        "id": "pPBKJhgbxRJu"
      }
    },
    {
      "cell_type": "code",
      "source": [
        "create_dataset()"
      ],
      "metadata": {
        "colab": {
          "base_uri": "https://localhost:8080/"
        },
        "id": "nIk5BG0TwH5h",
        "outputId": "aec6d576-19e4-4864-e29c-63f7f3011d07"
      },
      "execution_count": null,
      "outputs": [
        {
          "output_type": "stream",
          "name": "stderr",
          "text": [
            "100%|██████████| 2000/2000 [02:22<00:00, 14.00it/s]\n",
            "100%|██████████| 2000/2000 [02:25<00:00, 13.79it/s]\n"
          ]
        }
      ]
    },
    {
      "cell_type": "markdown",
      "source": [
        "# 4. Split the generated images and labels into training, validation and testing sets\n",
        "\n",
        "The \"split_dataset\" command executed below splits the merged images and labels randomly according to a split ratio preset in the beginning of the function definition while ensuring the class equailty in each split. The split data is copied into their respective folders in the 'dataset' folder."
      ],
      "metadata": {
        "id": "L5OqUR935IIt"
      }
    },
    {
      "cell_type": "code",
      "source": [
        "split_dataset()"
      ],
      "metadata": {
        "colab": {
          "base_uri": "https://localhost:8080/"
        },
        "id": "vKEIjNh1--aX",
        "outputId": "c3a91f4f-502c-40b7-97be-a756602c6c38"
      },
      "execution_count": null,
      "outputs": [
        {
          "output_type": "stream",
          "name": "stderr",
          "text": [
            "100%|██████████| 2000/2000 [00:43<00:00, 45.94it/s]\n",
            "100%|██████████| 2000/2000 [00:50<00:00, 39.23it/s]\n"
          ]
        }
      ]
    },
    {
      "cell_type": "markdown",
      "source": [
        "# 5. Generate the yaml file containing the dataset paths along with the class details\n",
        "\n",
        "The \"create_yaml()\" command executed below generates a .yaml file containing the paths to the dataset training, validation and testing folders along with the total number of classes and class names. The file is saved in the 'data' folder inside the yolov7 folder."
      ],
      "metadata": {
        "id": "lwbfRMt9hF13"
      }
    },
    {
      "cell_type": "code",
      "source": [
        "create_yaml()"
      ],
      "metadata": {
        "colab": {
          "base_uri": "https://localhost:8080/"
        },
        "id": "pmuCjYqDh-E8",
        "outputId": "0084df63-02c2-4e63-aeb4-f43e01232b0b"
      },
      "execution_count": null,
      "outputs": [
        {
          "output_type": "stream",
          "name": "stdout",
          "text": [
            "File generated successfully\n"
          ]
        }
      ]
    },
    {
      "cell_type": "markdown",
      "source": [
        "# Preprocessing complete\n",
        "\n",
        "The data preprocessing has now been completed and the yaml file has been generated. The dataset and the yaml file can now be used to train the YOLOv7 model, the details of which can be found in the main project file at [YOLOv7_Braking_Detection.ipynb](https://colab.research.google.com/drive/1uxMoyABEvXf6MOd2j0zMawT4u_xrbEKz?usp=sharing)."
      ],
      "metadata": {
        "id": "Ez_PQQwbxm_S"
      }
    }
  ]
}